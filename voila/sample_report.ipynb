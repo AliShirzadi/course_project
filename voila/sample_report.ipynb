{
 "cells": [
  {
   "cell_type": "markdown",
   "metadata": {},
   "source": [
    "# TITLE: A Sample Project\n",
    "\n",
    "```\n",
    "Team Members: CPSC6300\n",
    "Date: Dec 8, 2020\n",
    "```"
   ]
  },
  {
   "cell_type": "markdown",
   "metadata": {},
   "source": [
    "## Probelm Statement and Motivation\n",
    "This should be a brief and self-contained decription of the problem that your project aims to solve and what motivated you to solve this problem.\n",
    "\n",
    "This document illustrates how to write a report using Markdown ([markdown][])."
   ]
  },
  {
   "cell_type": "markdown",
   "metadata": {},
   "source": [
    "## Introduction and Description of Data\n",
    "\n",
    "+ Description of relevant knowledge. \n",
    "+ Why is this problem important?\n",
    "+ Why is it challenging? \n",
    "+ Introduce the motivations for the project question and how that question was defined through preliminary EDA."
   ]
  },
  {
   "cell_type": "markdown",
   "metadata": {},
   "source": [
    "## Literature Review/Related Work \n",
    "This could include noting any key papers, texts, or websites that you have used to develop your modeling approach, as well as what others have done on this problem in the past. You must properly credit sources.\n",
    "\n",
    "Random forests are a combination of tree predictors such that each tree depends on the values of a random vector sampled independently and with the same distribution for all trees in the forest. see [random_forest][]."
   ]
  },
  {
   "cell_type": "markdown",
   "metadata": {},
   "source": [
    "## Create a Website using Markdown\n",
    "\n",
    "To create a website using Markdown for the cpsc4300/cpsc6300 class to view, you can use the following process:\n",
    "\n",
    "1. Create a subfolder named with your username within the folder /zfs/courses/CPSC6300/web:\n",
    "\n",
    "        mkdir -p /zfs/courses/CPSC6300/web/$USER\n",
    "\n",
    "1. Check out your course project repository into the newly created folder:\n",
    "\n",
    "        cd /zfs/courses/CPSC6300/web/$USER\n",
    "        git clone {your-project-repo}\n",
    "        cd {your-project-repo-dir}\n",
    "        mkdir docs\n",
    "        cp report/report.md docs/index.md\n",
    "\n",
    "1. create a mkdocs.yml file\n",
    "\n",
    "       ```\n",
    "       site_name: CPSC6300 Course Project\n",
    "         nav:\n",
    "           - Home: index.md\n",
    "       theme: readthedocs\n",
    "       ```\n",
    "\n",
    "1. Edite the file docs/index.md to include your report.\n",
    "\n",
    "1. Build the website\n",
    "\n",
    "        module load courses/cpsc6300\n",
    "        mkdocs build\n",
    "\n",
    "1. Open the URL http:{your-loginvm-ip}:8080/~{your-username}/{your-project-repo-dir}/site/ in a browser to check your website.\n",
    "        For example, visit [this example site](http://10.128.97.93:8080/~xizhouf/course_project/site/).\n",
    "\n",
    "1. Commit all your project files to github\n",
    "\n",
    "        git status\n",
    "        git add docs/index.md\n",
    "        git add docs/figs/*\n",
    "        git add {other-files}\n",
    "        git commit -m 'finalize project'\n",
    "        git push\n",
    "\n",
    "1. Add your website URL to canvas [Project signup sheet](https://clemson.instructure.com/courses/118802/pages/project-url-signup)"
   ]
  },
  {
   "cell_type": "markdown",
   "metadata": {},
   "source": [
    "## Create Website using voila\n",
    " \n",
    "1. Create a web folder under one of the member of the project team\n",
    " \n",
    "       cd /zfs/courses/CPSC6300/web/\n",
    "       mkdir -p $USER\n",
    "\n",
    "1. Check out your project from github\n",
    "\n",
    "       cd /zfs/courses/CPSC6300/web/$USER\n",
    "       git clone {your-project-repo}\n",
    "       cd {your-project-repo-dir}\n",
    "\n",
    "1. Start Voila service in a screen session\n",
    "\n",
    "       screen\n",
    "       module load courses/cpsc6300\n",
    "       voila {your-project-jupyter-notebook} --no-browser --debug\n",
    "\n",
    "1. Check your web service at http://{your-login-vm-ip}:8866/\n",
    "\n",
    "\n",
    "## Modeling Approach\n",
    "\n",
    "+ Describe the baseline model.\n",
    "+ Describe your implementations beyond the baseline model and the design choices that you have made."
   ]
  },
  {
   "cell_type": "markdown",
   "metadata": {},
   "source": [
    "## Project Trajectory, Results, and Interpretation \n",
    "\n",
    "Briefly summarize any changes in your project goals or implementation plans you have made.\n",
    "These changes are a natural part of any project, even those that seem the most straightforward at the beginning.\n",
    "The story you tell about how you arrived at your results can powerfully illustrate your process. \n",
    "\n",
    "\n",
    "Next, show your results. How well does your model and/or implementation perform? Did you meet your goals?\n",
    "\n",
    "### Example Results #1\n",
    "\n",
    "Here is an example to include figures in your report.\n",
    "\n",
    "![Stock Peaks](figs/example_peaks.png \"Stock Peaks Example\")\n",
    "<center>Fig 1. Apple Stock Peaks</center>\n",
    "\n",
    "### Example Results #2\n",
    "\n",
    "Here is an example to include tables in your report.\n",
    "\n",
    "|\t | CountVectorizer\t | TfidfVectorizer |\n",
    "| ------ | --------------------- | ---------------- |\n",
    "| LogisticRegression\t|  0.799863  |\t0.785519  |\n",
    "| NaiveBayes   |\t0.766052\t| 0.650273 |\n",
    "| RandomForest | \t0.734631\t| 0.734290 |\n",
    "\n",
    "\n",
    "Finally, give some interpretation. What do your results mean? What impact will your work have?"
   ]
  },
  {
   "cell_type": "markdown",
   "metadata": {},
   "source": [
    "## Conclusions and Future Work\n",
    "\n",
    "Summarize your results, the strengths and short-comings of your results, and speculate on how you might address these short-comings if given more time."
   ]
  },
  {
   "cell_type": "markdown",
   "metadata": {},
   "source": [
    "## References:\n",
    "`This could include the revised key papers, texts, or websites that you may use to develop your project.\n",
    "\n",
    "[random_forest]: https://doi.org/10.1023/A:1010933404324 \"Breiman, L. Random Forests. Machine Learning 45, 5–32 (2001).\"\n",
    "[markdown]: https://daringfireball.net/projects/markdown/syntax \"Markdown Syntax\"\n",
    "\n",
    "1. [random_forest] Breiman, L. Random Forests. Machine Learning 45, 5–32 (2001). https://doi.org/10.1023/A:1010933404324\n",
    "1. [markdown] John Gruber. Markdown Syntax, https://daringfireball.net/projects/markdown/syntax"
   ]
  },
  {
   "cell_type": "markdown",
   "metadata": {},
   "source": [
    "## Support Materials\n",
    "Provide a list of materials that support your project, for example, the notebooks and data sources."
   ]
  },
  {
   "cell_type": "markdown",
   "metadata": {},
   "source": [
    "## Declaration of academic integrity and responsibility\n",
    "\n",
    "In your report, you should include a declaration of academic integrity as follows:\n",
    "\n",
    "```\n",
    "With my signature, I certify on my honor that:\n",
    "\n",
    "The submitted work is my and my teammates' original work and not copied from the work of someone else.\n",
    "Each use of existing work of others in the submitted is cited with proper reference.\n",
    "Signature: ____________ Date: ______________\n",
    "```"
   ]
  },
  {
   "cell_type": "markdown",
   "metadata": {},
   "source": [
    "## Credit\n",
    "The above project template is based on a template developed by Harvard IACS CS109 staff (see https://github.com/Harvard-IACS/2019-CS109A/tree/master/content/projects)."
   ]
  }
 ],
 "metadata": {
  "kernelspec": {
   "display_name": "Python 3",
   "language": "python",
   "name": "python3"
  },
  "language_info": {
   "codemirror_mode": {
    "name": "ipython",
    "version": 3
   },
   "file_extension": ".py",
   "mimetype": "text/x-python",
   "name": "python",
   "nbconvert_exporter": "python",
   "pygments_lexer": "ipython3",
   "version": "3.8.3"
  }
 },
 "nbformat": 4,
 "nbformat_minor": 4
}
